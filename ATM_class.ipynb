{
 "cells": [
  {
   "cell_type": "markdown",
   "metadata": {},
   "source": [
    "# ATM returns based on DMS classification"
   ]
  },
  {
   "cell_type": "code",
   "execution_count": 11,
   "metadata": {},
   "outputs": [],
   "source": [
    "import numpy as np\n",
    "from scipy.interpolate import griddata\n",
    "from osgeo import gdal, osr\n",
    "import matplotlib.pyplot as plt\n",
    "#import cartopy.crs as ccrs\n",
    "\n",
    "def pixel2coord(im):\n",
    "    c,a,b,f,d,e= im.GetGeoTransform()\n",
    "    \n",
    "    red = im.GetRasterBand(1).ReadAsArray()\n",
    "    \n",
    "    col =np.zeros((len(red[0]),len(red[1])))\n",
    "    row=col\n",
    "    for i in range(len(col[0])):\n",
    "        col[:,i]=i\n",
    "    for j in range(len(row[1])):\n",
    "        row[j,:]=j\n",
    "    xp = a * col + b * row + a * 0.5 + b * 0.5 + c\n",
    "    yp = d * col + e * row + d * 0.5 + e * 0.5 + f\n",
    "    \n",
    "    return xp,yp"
   ]
  },
  {
   "cell_type": "markdown",
   "metadata": {},
   "source": [
    "### Import DMS classified matrix and ATM data"
   ]
  },
  {
   "cell_type": "code",
   "execution_count": 14,
   "metadata": {},
   "outputs": [],
   "source": [
    "DMS_path= '/Users/ellenbuckley/Documents/UMD/research/ANALYSIS/DMS/DMS_1752406_02256_20170725_13041470.tif'\n",
    "#ATM_path=\n",
    "\n",
    "im= gdal.Open(DMS_path)\n",
    "#red = im.GetRasterBand(1).ReadAsArray()\n",
    "#im.GetGeoTransform()\n",
    "xp, yp = pixel2coord(im)"
   ]
  },
  {
   "cell_type": "code",
   "execution_count": 25,
   "metadata": {},
   "outputs": [
    {
     "data": {
      "image/png": "[encoded data removed]",
      "text/plain": [
       "<matplotlib.figure.Figure at 0x149876f60>"
      ]
     },
     "metadata": {
      "needs_background": "light"
     },
     "output_type": "display_data"
    }
   ],
   "source": [
    "plt.plot(xp,yp);"
   ]
  },
  {
   "cell_type": "markdown",
   "metadata": {},
   "source": [
    "### Interpolate where the ATM footprint falls within the DMS image"
   ]
  },
  {
   "cell_type": "code",
   "execution_count": null,
   "metadata": {},
   "outputs": [],
   "source": [
    "points= np.columnstack((np.ravel(xp), np.ravel(yp)))\n",
    "values=np.ravel(classif)\n",
    "grid_z0 = griddata(points, values, (lon, lat), method='nearest')"
   ]
  }
 ],
 "metadata": {
  "kernelspec": {
   "display_name": "Python 3",
   "language": "python",
   "name": "python3"
  },
  "language_info": {
   "codemirror_mode": {
    "name": "ipython",
    "version": 3
   },
   "file_extension": ".py",
   "mimetype": "text/x-python",
   "name": "python",
   "nbconvert_exporter": "python",
   "pygments_lexer": "ipython3",
   "version": "3.6.1"
  }
 },
 "nbformat": 4,
 "nbformat_minor": 2
}
